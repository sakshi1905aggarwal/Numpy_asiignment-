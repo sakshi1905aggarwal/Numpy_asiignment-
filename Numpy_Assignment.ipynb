{
  "nbformat": 4,
  "nbformat_minor": 0,
  "metadata": {
    "colab": {
      "provenance": []
    },
    "kernelspec": {
      "name": "python3",
      "display_name": "Python 3"
    },
    "language_info": {
      "name": "python"
    }
  },
  "cells": [
    {
      "cell_type": "markdown",
      "source": [
        "**Ques 1. What is a Python library? Why do we use Python libraries?**"
      ],
      "metadata": {
        "id": "24f353dKhA4y"
      }
    },
    {
      "cell_type": "markdown",
      "source": [
        "python library means there is some inbuilt python programs which can be used reusable.The programs written in these libraries are highly optimized.\n",
        "\n",
        "**Why we use :**\n",
        "\n",
        "1.Highly optimized function written in python libraries.\n",
        "\n",
        "2.These can be reusable.\n",
        "\n",
        "3.Easy to perform any calculation based problems.\n",
        "\n",
        "4.Faster than our own function beacsuse it will take less space and time.\n"
      ],
      "metadata": {
        "id": "ls1FJvlhhEzu"
      }
    },
    {
      "cell_type": "markdown",
      "source": [
        "**Ques 2. What is the difference between Numpy array and List?**"
      ],
      "metadata": {
        "id": "Ga8_wYuUiCCw"
      }
    },
    {
      "cell_type": "markdown",
      "source": [
        "**There are some differences between numpy array and list:**\n",
        "\n",
        "1.Numpy array used to store only homogeneous data whereas list can store different data type.\n",
        "\n",
        "2.Numpy array is faster than the list because it stores only same type of data.\n",
        "\n",
        "3.In Numpy array,no vectorization is happen (calculation used to do row wise) but in list vectorization is there.\n",
        "\n",
        "4.Numpy array has statistically defined memory allocation whereas in list there is random allocation of the memory.\n"
      ],
      "metadata": {
        "id": "bHWBjKKWiKVK"
      }
    },
    {
      "cell_type": "markdown",
      "source": [
        "**Ques 3. Find the shape, size and dimension of the following array?**\n",
        "\n",
        "[[1, 2, 3, 4]\n",
        "\n",
        "[5, 6, 7, 8],\n",
        "\n",
        "[9, 10, 11, 12]]"
      ],
      "metadata": {
        "id": "bc0o21wHjDHy"
      }
    },
    {
      "cell_type": "code",
      "source": [
        "import numpy as np"
      ],
      "metadata": {
        "id": "DisYDsiUjRlU"
      },
      "execution_count": null,
      "outputs": []
    },
    {
      "cell_type": "code",
      "source": [
        "arr=np.array([[1, 2, 3, 4],[5, 6, 7, 8],[9, 10, 11, 12]])"
      ],
      "metadata": {
        "id": "Sp7BEcZTjWt4"
      },
      "execution_count": null,
      "outputs": []
    },
    {
      "cell_type": "code",
      "source": [
        "arr"
      ],
      "metadata": {
        "colab": {
          "base_uri": "https://localhost:8080/"
        },
        "id": "vCtiMKPyjYQE",
        "outputId": "00314484-2937-499c-d895-3afa815d1a80"
      },
      "execution_count": null,
      "outputs": [
        {
          "output_type": "execute_result",
          "data": {
            "text/plain": [
              "array([[ 1,  2,  3,  4],\n",
              "       [ 5,  6,  7,  8],\n",
              "       [ 9, 10, 11, 12]])"
            ]
          },
          "metadata": {},
          "execution_count": 3
        }
      ]
    },
    {
      "cell_type": "code",
      "source": [
        "np.shape(arr)"
      ],
      "metadata": {
        "colab": {
          "base_uri": "https://localhost:8080/"
        },
        "id": "7K4PPbDtjmK-",
        "outputId": "b283e7ce-b676-4604-f9e9-9d102221c64c"
      },
      "execution_count": null,
      "outputs": [
        {
          "output_type": "execute_result",
          "data": {
            "text/plain": [
              "(3, 4)"
            ]
          },
          "metadata": {},
          "execution_count": 4
        }
      ]
    },
    {
      "cell_type": "code",
      "source": [
        "np.size(arr)"
      ],
      "metadata": {
        "colab": {
          "base_uri": "https://localhost:8080/"
        },
        "id": "Vq0lkffqjpWO",
        "outputId": "f8e1c79f-eb05-418e-bd03-c3e1edcb7884"
      },
      "execution_count": null,
      "outputs": [
        {
          "output_type": "execute_result",
          "data": {
            "text/plain": [
              "12"
            ]
          },
          "metadata": {},
          "execution_count": 5
        }
      ]
    },
    {
      "cell_type": "code",
      "source": [
        "np.ndim(arr)"
      ],
      "metadata": {
        "colab": {
          "base_uri": "https://localhost:8080/"
        },
        "id": "FTorKfhejtOz",
        "outputId": "5a1a3690-ca14-4642-f566-f8d39b920062"
      },
      "execution_count": null,
      "outputs": [
        {
          "output_type": "execute_result",
          "data": {
            "text/plain": [
              "2"
            ]
          },
          "metadata": {},
          "execution_count": 6
        }
      ]
    },
    {
      "cell_type": "markdown",
      "source": [
        "**Ques 4. Write python code to access the first row of the following array?**\n",
        "\n",
        "[[1, 2, 3, 4]\n",
        "\n",
        "[5, 6, 7, 8],\n",
        "\n",
        "[9, 10, 11, 12]]"
      ],
      "metadata": {
        "id": "va5Y6N4Yj8gM"
      }
    },
    {
      "cell_type": "code",
      "source": [
        "arr1=np.array([[1, 2, 3, 4],[5, 6, 7, 8],[9, 10, 11, 12]])"
      ],
      "metadata": {
        "id": "-nQK8l4Zj359"
      },
      "execution_count": null,
      "outputs": []
    },
    {
      "cell_type": "code",
      "source": [
        "arr1[0]"
      ],
      "metadata": {
        "colab": {
          "base_uri": "https://localhost:8080/"
        },
        "id": "vPDdqXjHkJp5",
        "outputId": "c2d81f4f-bd56-41fe-9355-f306ea10d1b4"
      },
      "execution_count": null,
      "outputs": [
        {
          "output_type": "execute_result",
          "data": {
            "text/plain": [
              "array([1, 2, 3, 4])"
            ]
          },
          "metadata": {},
          "execution_count": 8
        }
      ]
    },
    {
      "cell_type": "markdown",
      "source": [
        "**Ques 5. How do you access the element at the third row and fourth column from the given numpy array?**\n",
        "\n",
        "[[1, 2, 3, 4]\n",
        "\n",
        "[5, 6, 7, 8],\n",
        "\n",
        "[9, 10, 11, 12]]"
      ],
      "metadata": {
        "id": "le3OB_5JleAw"
      }
    },
    {
      "cell_type": "code",
      "source": [
        "arr2=np.array([[1, 2, 3, 4],[5, 6, 7, 8],[9, 10, 11, 12]])"
      ],
      "metadata": {
        "id": "1qX0mUzPkMiq"
      },
      "execution_count": null,
      "outputs": []
    },
    {
      "cell_type": "code",
      "source": [
        "arr2[2][3]"
      ],
      "metadata": {
        "colab": {
          "base_uri": "https://localhost:8080/"
        },
        "id": "vtYB6KDtlwWC",
        "outputId": "6e2cf54c-1580-4cd4-8ab4-9236f6aeb64b"
      },
      "execution_count": null,
      "outputs": [
        {
          "output_type": "execute_result",
          "data": {
            "text/plain": [
              "12"
            ]
          },
          "metadata": {},
          "execution_count": 10
        }
      ]
    },
    {
      "cell_type": "markdown",
      "source": [
        "**Ques 6. Write code to extract all odd-indexed elements from the given numpy array?**\n",
        "\n",
        "[[1, 2, 3, 4]\n",
        "\n",
        "[5, 6, 7, 8],\n",
        "\n",
        "[9, 10, 11, 12]]"
      ],
      "metadata": {
        "id": "ZuD0K0ilmGDK"
      }
    },
    {
      "cell_type": "code",
      "source": [
        "arr3=np.array([[1, 2, 3, 4],[5, 6, 7, 8],[9, 10, 11, 12]])"
      ],
      "metadata": {
        "id": "rzUk1DAjl5cQ"
      },
      "execution_count": null,
      "outputs": []
    },
    {
      "cell_type": "code",
      "source": [
        "arr3"
      ],
      "metadata": {
        "colab": {
          "base_uri": "https://localhost:8080/"
        },
        "id": "tZ_4PgHbmSbi",
        "outputId": "cf8356ae-f90f-4d5e-ebb1-2f964ad43a9c"
      },
      "execution_count": null,
      "outputs": [
        {
          "output_type": "execute_result",
          "data": {
            "text/plain": [
              "array([[ 1,  2,  3,  4],\n",
              "       [ 5,  6,  7,  8],\n",
              "       [ 9, 10, 11, 12]])"
            ]
          },
          "metadata": {},
          "execution_count": 12
        }
      ]
    },
    {
      "cell_type": "code",
      "source": [
        "arr3[0][0]"
      ],
      "metadata": {
        "colab": {
          "base_uri": "https://localhost:8080/"
        },
        "id": "C1T8S4PtmT_p",
        "outputId": "33e7fad8-4353-4ba7-d969-2014e8f67cda"
      },
      "execution_count": null,
      "outputs": [
        {
          "output_type": "execute_result",
          "data": {
            "text/plain": [
              "1"
            ]
          },
          "metadata": {},
          "execution_count": 13
        }
      ]
    },
    {
      "cell_type": "code",
      "source": [
        "arr3[0][2]"
      ],
      "metadata": {
        "colab": {
          "base_uri": "https://localhost:8080/"
        },
        "id": "EXE6MnUanZIS",
        "outputId": "de2dc84c-917d-4123-c109-670c77b82c98"
      },
      "execution_count": null,
      "outputs": [
        {
          "output_type": "execute_result",
          "data": {
            "text/plain": [
              "3"
            ]
          },
          "metadata": {},
          "execution_count": 14
        }
      ]
    },
    {
      "cell_type": "code",
      "source": [
        "odd_indexed_elements=arr3[1::2,1::2]"
      ],
      "metadata": {
        "id": "P1-Wnkp_nmZg"
      },
      "execution_count": null,
      "outputs": []
    },
    {
      "cell_type": "code",
      "source": [
        "odd_indexed_elements"
      ],
      "metadata": {
        "colab": {
          "base_uri": "https://localhost:8080/"
        },
        "id": "Tx_B98VvpoNe",
        "outputId": "20177517-a65a-498a-c567-ba504c96642f"
      },
      "execution_count": null,
      "outputs": [
        {
          "output_type": "execute_result",
          "data": {
            "text/plain": [
              "array([[6, 8]])"
            ]
          },
          "metadata": {},
          "execution_count": 16
        }
      ]
    },
    {
      "cell_type": "markdown",
      "source": [
        "**Ques 7. How can you generate a random 3x3 matrix with values between 0 and 1?**"
      ],
      "metadata": {
        "id": "NYpHbuZMqrKB"
      }
    },
    {
      "cell_type": "code",
      "source": [
        "import random"
      ],
      "metadata": {
        "id": "4M-_cMwtd01S"
      },
      "execution_count": null,
      "outputs": []
    },
    {
      "cell_type": "code",
      "source": [
        "np.random.randn(3,3)"
      ],
      "metadata": {
        "id": "j8gn5qQ0ppsF",
        "colab": {
          "base_uri": "https://localhost:8080/"
        },
        "outputId": "fe2cbf2a-696f-4103-c5a8-d23800a96f76"
      },
      "execution_count": null,
      "outputs": [
        {
          "output_type": "execute_result",
          "data": {
            "text/plain": [
              "array([[ 1.54818353,  0.07982273,  1.43768925],\n",
              "       [-0.13648034, -1.31799582, -1.16549067],\n",
              "       [ 1.60737637, -0.0823297 ,  0.51609074]])"
            ]
          },
          "metadata": {},
          "execution_count": 18
        }
      ]
    },
    {
      "cell_type": "markdown",
      "source": [
        "**Ques 8. Describe the difference between np.random.rand and np.random.randn?**"
      ],
      "metadata": {
        "id": "yogU3sQ9risi"
      }
    },
    {
      "cell_type": "markdown",
      "source": [
        "**np.random.rand**\n",
        "\n",
        "1.generates random numbers uniformly distributed in the range (0,1).\n",
        "\n",
        "**2.Syntax :**\n",
        "\n",
        "np.random.rand(3, 3)\n",
        "\n",
        "\n",
        "**np.random.randn**\n",
        "\n",
        "1.Generates random numbers from a standard normal distribution (Gaussian distribution with mean = 0 and standard deviation = 1)\n",
        "\n",
        "**2.Syntax :**\n",
        "\n",
        "np.random.rand(3, 3)\n",
        "\n"
      ],
      "metadata": {
        "id": "azhWkHcNe-dp"
      }
    },
    {
      "cell_type": "markdown",
      "source": [
        "**9. Write code to increase the dimension of the following array?**\n",
        "\n",
        "[[1, 2, 3, 4]\n",
        "\n",
        "[5, 6, 7, 8],\n",
        "\n",
        "[9, 10, 11, 12]]"
      ],
      "metadata": {
        "id": "Bq4ustW1gIFH"
      }
    },
    {
      "cell_type": "code",
      "source": [
        "a=np.array([[1, 2, 3, 4],[5, 6, 7, 8],[9, 10, 11, 12]])\n",
        "a"
      ],
      "metadata": {
        "colab": {
          "base_uri": "https://localhost:8080/"
        },
        "id": "Z_mpZCBogJOF",
        "outputId": "4487046a-569e-4603-e866-91818effc98c"
      },
      "execution_count": null,
      "outputs": [
        {
          "output_type": "execute_result",
          "data": {
            "text/plain": [
              "array([[ 1,  2,  3,  4],\n",
              "       [ 5,  6,  7,  8],\n",
              "       [ 9, 10, 11, 12]])"
            ]
          },
          "metadata": {},
          "execution_count": 19
        }
      ]
    },
    {
      "cell_type": "code",
      "source": [
        "np.expand_dims(a,axis=0)"
      ],
      "metadata": {
        "colab": {
          "base_uri": "https://localhost:8080/"
        },
        "id": "8hfokZNLgOYO",
        "outputId": "e4d87b6d-2e7e-4947-acb3-8ea04b3d1d47"
      },
      "execution_count": null,
      "outputs": [
        {
          "output_type": "execute_result",
          "data": {
            "text/plain": [
              "array([[[ 1,  2,  3,  4],\n",
              "        [ 5,  6,  7,  8],\n",
              "        [ 9, 10, 11, 12]]])"
            ]
          },
          "metadata": {},
          "execution_count": 20
        }
      ]
    },
    {
      "cell_type": "markdown",
      "source": [
        "**10. How to transpose the following array in NumPy?**\n",
        "\n",
        "[[1, 2, 3, 4]\n",
        "\n",
        "[5, 6, 7, 8],\n",
        "\n",
        "[9, 10, 11, 12]]"
      ],
      "metadata": {
        "id": "MzOJYLmQgkO7"
      }
    },
    {
      "cell_type": "code",
      "source": [
        "b=np.array([[1, 2, 3, 4],[5, 6, 7, 8],[9, 10, 11, 12]])"
      ],
      "metadata": {
        "id": "b_D6zHLogVl0"
      },
      "execution_count": null,
      "outputs": []
    },
    {
      "cell_type": "code",
      "source": [
        "b"
      ],
      "metadata": {
        "colab": {
          "base_uri": "https://localhost:8080/"
        },
        "id": "gZ6XRbILg0uc",
        "outputId": "1413f516-a79d-4795-c54c-dd20f39e0aa6"
      },
      "execution_count": null,
      "outputs": [
        {
          "output_type": "execute_result",
          "data": {
            "text/plain": [
              "array([[ 1,  2,  3,  4],\n",
              "       [ 5,  6,  7,  8],\n",
              "       [ 9, 10, 11, 12]])"
            ]
          },
          "metadata": {},
          "execution_count": 22
        }
      ]
    },
    {
      "cell_type": "code",
      "source": [
        "b.T"
      ],
      "metadata": {
        "colab": {
          "base_uri": "https://localhost:8080/"
        },
        "id": "8sA0WdALg4Pz",
        "outputId": "5712cda4-31a8-4e00-8c13-e18ab16937c2"
      },
      "execution_count": null,
      "outputs": [
        {
          "output_type": "execute_result",
          "data": {
            "text/plain": [
              "array([[ 1,  5,  9],\n",
              "       [ 2,  6, 10],\n",
              "       [ 3,  7, 11],\n",
              "       [ 4,  8, 12]])"
            ]
          },
          "metadata": {},
          "execution_count": 23
        }
      ]
    },
    {
      "cell_type": "markdown",
      "source": [
        "**11. Consider the following matrix:**\n",
        "\n",
        "**Matrix A:**\n",
        "\n",
        "[[1, 2, 3, 4]\n",
        "\n",
        "[5, 6, 7, 8],\n",
        "\n",
        "[9, 10, 11, 12]]\n",
        "\n",
        "**Matrix B:**\n",
        "\n",
        "[[1, 2, 3, 4]\n",
        "\n",
        "[5, 6, 7, 8],\n",
        "\n",
        "[9, 10, 11, 12]]\n"
      ],
      "metadata": {
        "id": "Ngk_NmrZqAM6"
      }
    },
    {
      "cell_type": "code",
      "source": [
        "Matrix_A=np.array([[1, 2, 3, 4],[5, 6, 7, 8],[9, 10, 11, 12]])\n",
        "Matrix_B=np.array([[1, 2, 3, 4],[5, 6, 7, 8],[9, 10, 11, 12]])"
      ],
      "metadata": {
        "id": "TBTmD8kRg9CG"
      },
      "execution_count": null,
      "outputs": []
    },
    {
      "cell_type": "code",
      "source": [
        "Matrix_A"
      ],
      "metadata": {
        "colab": {
          "base_uri": "https://localhost:8080/"
        },
        "id": "Pc4yNsS6rNoo",
        "outputId": "035c3ba3-e1aa-4175-c351-1c67a6f1c746"
      },
      "execution_count": null,
      "outputs": [
        {
          "output_type": "execute_result",
          "data": {
            "text/plain": [
              "array([[ 1,  2,  3,  4],\n",
              "       [ 5,  6,  7,  8],\n",
              "       [ 9, 10, 11, 12]])"
            ]
          },
          "metadata": {},
          "execution_count": 28
        }
      ]
    },
    {
      "cell_type": "code",
      "source": [
        "Matrix_B"
      ],
      "metadata": {
        "colab": {
          "base_uri": "https://localhost:8080/"
        },
        "id": "aKiAUg7Mrb_b",
        "outputId": "384e861a-e762-43f3-c510-abb0a71adf12"
      },
      "execution_count": null,
      "outputs": [
        {
          "output_type": "execute_result",
          "data": {
            "text/plain": [
              "array([[ 1,  2,  3,  4],\n",
              "       [ 5,  6,  7,  8],\n",
              "       [ 9, 10, 11, 12]])"
            ]
          },
          "metadata": {},
          "execution_count": 29
        }
      ]
    },
    {
      "cell_type": "markdown",
      "source": [
        "**Perform the following operation using Python:**"
      ],
      "metadata": {
        "id": "cGPByuL6rknP"
      }
    },
    {
      "cell_type": "code",
      "source": [
        "# 1.Index wise multiplication\n",
        "\n",
        "np.multiply(Matrix_A ,Matrix_B)"
      ],
      "metadata": {
        "colab": {
          "base_uri": "https://localhost:8080/"
        },
        "id": "N2W0w8bqrdTP",
        "outputId": "63251878-420a-4a30-cf6d-ac49af68657e"
      },
      "execution_count": null,
      "outputs": [
        {
          "output_type": "execute_result",
          "data": {
            "text/plain": [
              "array([[  1,   4,   9,  16],\n",
              "       [ 25,  36,  49,  64],\n",
              "       [ 81, 100, 121, 144]])"
            ]
          },
          "metadata": {},
          "execution_count": 31
        }
      ]
    },
    {
      "cell_type": "code",
      "source": [
        "Matrix_B=Matrix_B.T"
      ],
      "metadata": {
        "id": "gfbfgF7BtYwI"
      },
      "execution_count": null,
      "outputs": []
    },
    {
      "cell_type": "code",
      "source": [
        "# 2.Matrix multiplication\n",
        "\n",
        "result=Matrix_A @ Matrix_B\n",
        "result"
      ],
      "metadata": {
        "colab": {
          "base_uri": "https://localhost:8080/"
        },
        "id": "Fm2UApt9rvBb",
        "outputId": "1bb2b2f8-d830-45fc-80f9-425d166545db"
      },
      "execution_count": null,
      "outputs": [
        {
          "output_type": "execute_result",
          "data": {
            "text/plain": [
              "array([[ 30,  70, 110],\n",
              "       [ 70, 174, 278],\n",
              "       [110, 278, 446]])"
            ]
          },
          "metadata": {},
          "execution_count": 44
        }
      ]
    },
    {
      "cell_type": "code",
      "source": [
        "# 3.Add both the matrics\n",
        "Matrix_B=np.array([[1, 2, 3, 4],[5, 6, 7, 8],[9, 10, 11, 12]])"
      ],
      "metadata": {
        "id": "8JKb1elxspRE"
      },
      "execution_count": null,
      "outputs": []
    },
    {
      "cell_type": "code",
      "source": [
        "Matrics_sum=Matrix_A + Matrix_B\n",
        "Matrics_sum"
      ],
      "metadata": {
        "colab": {
          "base_uri": "https://localhost:8080/"
        },
        "id": "ZExD4esgtml1",
        "outputId": "b0dc630d-18ef-4737-e13c-535405f750e9"
      },
      "execution_count": null,
      "outputs": [
        {
          "output_type": "execute_result",
          "data": {
            "text/plain": [
              "array([[ 2,  4,  6,  8],\n",
              "       [10, 12, 14, 16],\n",
              "       [18, 20, 22, 24]])"
            ]
          },
          "metadata": {},
          "execution_count": 48
        }
      ]
    },
    {
      "cell_type": "code",
      "source": [
        "# 4.Subtract matrix B from A\n",
        "Matrics_subtract=Matrix_A - Matrix_B\n",
        "Matrics_subtract\n"
      ],
      "metadata": {
        "colab": {
          "base_uri": "https://localhost:8080/"
        },
        "id": "qOu_L_Svt-jP",
        "outputId": "9e9a0131-6eab-41b0-f686-066876d597f8"
      },
      "execution_count": null,
      "outputs": [
        {
          "output_type": "execute_result",
          "data": {
            "text/plain": [
              "array([[0, 0, 0, 0],\n",
              "       [0, 0, 0, 0],\n",
              "       [0, 0, 0, 0]])"
            ]
          },
          "metadata": {},
          "execution_count": 49
        }
      ]
    },
    {
      "cell_type": "code",
      "source": [
        "# 5.Divide Matrix B by A\n",
        "Matrics_divide=Matrix_B / Matrix_A\n",
        "Matrics_divide\n"
      ],
      "metadata": {
        "colab": {
          "base_uri": "https://localhost:8080/"
        },
        "id": "tmujfsB5uJGW",
        "outputId": "9eee1e8f-3971-4ee4-b2fa-2f1f0b29e13f"
      },
      "execution_count": null,
      "outputs": [
        {
          "output_type": "execute_result",
          "data": {
            "text/plain": [
              "array([[1., 1., 1., 1.],\n",
              "       [1., 1., 1., 1.],\n",
              "       [1., 1., 1., 1.]])"
            ]
          },
          "metadata": {},
          "execution_count": 50
        }
      ]
    },
    {
      "cell_type": "markdown",
      "source": [
        "**12. Which function in Numpy can be used to swap the byte order of an array?**"
      ],
      "metadata": {
        "id": "GEj7VvRRymvC"
      }
    },
    {
      "cell_type": "code",
      "source": [
        "import numpy as np\n",
        "\n",
        "# Create an array\n",
        "arr = np.array([1, 256, 65536], dtype=np.int32)\n",
        "\n",
        "print(\"Original array:\")\n",
        "print(arr)\n",
        "\n",
        "# Swap byte order\n",
        "arr.byteswap(inplace=True)\n",
        "\n",
        "print(\"Array after byte swapping:\")\n",
        "print(arr)\n"
      ],
      "metadata": {
        "id": "fjETzlNJuYfx",
        "colab": {
          "base_uri": "https://localhost:8080/"
        },
        "outputId": "2b86d351-8f28-45c7-ef5b-61cf51202b0e"
      },
      "execution_count": 2,
      "outputs": [
        {
          "output_type": "stream",
          "name": "stdout",
          "text": [
            "Original array:\n",
            "[    1   256 65536]\n",
            "Array after byte swapping:\n",
            "[16777216    65536      256]\n"
          ]
        }
      ]
    },
    {
      "cell_type": "markdown",
      "source": [
        "**13. What is the significance of the np.linalg.inv function?**"
      ],
      "metadata": {
        "id": "_GKknjgaEfij"
      }
    },
    {
      "cell_type": "markdown",
      "source": [
        "1.This function is used to computes the inverse of square matrix.The np.linalg.inv function inverts the given matrix and inverts the inverted matrix.\n",
        "\n",
        "2.It is useful in solving systems of linear equation,transforming data,or finding solutions to mathematical problems involving matrices."
      ],
      "metadata": {
        "id": "gQg7aVmRE2eJ"
      }
    },
    {
      "cell_type": "code",
      "source": [
        "# Define a square matrix\n",
        "A = np.array([[3,4], [5, 6]])\n",
        "\n",
        "# Compute the inverse\n",
        "A_inv = np.linalg.inv(A)\n",
        "\n",
        "print(\"Matrix A:\")\n",
        "print(A)\n",
        "\n",
        "print(\"\\nInverse of A:\")\n",
        "print(A_inv)\n",
        "\n",
        "# Verify the result (A @ A_inv should be the identity matrix)\n",
        "identity = np.dot(A, A_inv)\n",
        "print(\"\\nA * A_inv:\")\n",
        "print(identity)"
      ],
      "metadata": {
        "colab": {
          "base_uri": "https://localhost:8080/"
        },
        "id": "Pq3wod8fCMQU",
        "outputId": "82bb2f25-a114-4040-fc66-17c94f035173"
      },
      "execution_count": 5,
      "outputs": [
        {
          "output_type": "stream",
          "name": "stdout",
          "text": [
            "Matrix A:\n",
            "[[3 4]\n",
            " [5 6]]\n",
            "\n",
            "Inverse of A:\n",
            "[[-3.   2. ]\n",
            " [ 2.5 -1.5]]\n",
            "\n",
            "A * A_inv:\n",
            "[[ 1.0000000e+00 -8.8817842e-16]\n",
            " [ 0.0000000e+00  1.0000000e+00]]\n"
          ]
        }
      ]
    },
    {
      "cell_type": "markdown",
      "source": [
        "**14. What does the np.reshape function do, and how is it used?**"
      ],
      "metadata": {
        "id": "aWXHmHWLJXvd"
      }
    },
    {
      "cell_type": "markdown",
      "source": [
        "reshape() function is used to create a new array of same size but of different desired dimensions."
      ],
      "metadata": {
        "id": "922-DbMbJcWj"
      }
    },
    {
      "cell_type": "code",
      "source": [
        "# Original array\n",
        "arr = np.array([1, 2, 3, 4, 5, 6])\n",
        "\n",
        "# Reshape into 2x3 array\n",
        "modified_array = np.reshape(arr, (2, 3))\n",
        "\n",
        "print(\"Original Array:\")\n",
        "print(arr)\n",
        "\n",
        "print(\"\\nReshaped Array (2x3):\")\n",
        "print(modified_array)\n"
      ],
      "metadata": {
        "colab": {
          "base_uri": "https://localhost:8080/"
        },
        "id": "PDWgDaLAGDHr",
        "outputId": "6a437ba8-b1f2-4bb3-d378-fc948b211231"
      },
      "execution_count": 6,
      "outputs": [
        {
          "output_type": "stream",
          "name": "stdout",
          "text": [
            "Original Array:\n",
            "[1 2 3 4 5 6]\n",
            "\n",
            "Reshaped Array (2x3):\n",
            "[[1 2 3]\n",
            " [4 5 6]]\n"
          ]
        }
      ]
    },
    {
      "cell_type": "markdown",
      "source": [
        "**15. What is broadcasting in Numpy?**"
      ],
      "metadata": {
        "id": "gJp3xg09KCB3"
      }
    },
    {
      "cell_type": "markdown",
      "source": [
        "Broadcasting is a feature in NumPy that allows arrays of different shapes to be combined in arithmetic operations."
      ],
      "metadata": {
        "id": "E3d9HySJLEgE"
      }
    },
    {
      "cell_type": "code",
      "source": [
        "A = np.array([[1, 2, 3], [4, 5, 6]])\n",
        "B = np.array([1, 2, 3])\n",
        "result = A + B\n",
        "\n",
        "print(result)"
      ],
      "metadata": {
        "colab": {
          "base_uri": "https://localhost:8080/"
        },
        "id": "Z4JSXLt-J-f_",
        "outputId": "7f85729c-c618-4c1e-afcb-e18edb8d271a"
      },
      "execution_count": 7,
      "outputs": [
        {
          "output_type": "stream",
          "name": "stdout",
          "text": [
            "[[2 4 6]\n",
            " [5 7 9]]\n"
          ]
        }
      ]
    }
  ]
}